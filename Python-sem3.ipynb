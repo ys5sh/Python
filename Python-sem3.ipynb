{
 "cells": [
  {
   "cell_type": "markdown",
   "metadata": {},
   "source": [
    "## UNIT - 1"
   ]
  },
  {
   "cell_type": "markdown",
   "metadata": {},
   "source": [
    "P1: Exchange the Values of Two Variables"
   ]
  },
  {
   "cell_type": "code",
   "execution_count": null,
   "metadata": {},
   "outputs": [
    {
     "name": "stdout",
     "output_type": "stream",
     "text": [
      "4 6\n",
      "6 4\n"
     ]
    }
   ],
   "source": [
    "a = 4\n",
    "b = 6\n",
    "\n",
    "# Before exchange\n",
    "print(a, b)\n",
    "\n",
    "# After exchange\n",
    "b, a = a, b\n",
    "print(a,b)"
   ]
  },
  {
   "cell_type": "markdown",
   "metadata": {},
   "source": [
    "P2: Circulating Values of n Variables:"
   ]
  },
  {
   "cell_type": "code",
   "execution_count": null,
   "metadata": {},
   "outputs": [
    {
     "name": "stdout",
     "output_type": "stream",
     "text": [
      "Before :  [1, 2, 3, 4, 5]\n",
      "After :  [5, 1, 2, 3, 4]\n"
     ]
    }
   ],
   "source": [
    "def circulate(value):\n",
    "    if not value:\n",
    "        return value\n",
    "    return [value[-1]] + value[:-1]\n",
    "\n",
    "'''\n",
    "values[-1]: Takes the last element of the list.\n",
    "values[:-1]: Takes all elements except the last one.\n",
    "'''\n",
    "\n",
    "value = [1,2,3,4,5]\n",
    "print(\"Before : \", value)\n",
    "\n",
    "circulateResult = circulate(value)\n",
    "print(\"After : \", circulateResult)\n",
    "        "
   ]
  },
  {
   "cell_type": "markdown",
   "metadata": {},
   "source": [
    "P3: Distance Between Two Points"
   ]
  },
  {
   "cell_type": "code",
   "execution_count": 6,
   "metadata": {},
   "outputs": [
    {
     "name": "stdout",
     "output_type": "stream",
     "text": [
      "The total distance between two point :  5.0\n"
     ]
    }
   ],
   "source": [
    "import math\n",
    "\n",
    "def distanceBetweeen (x1, y1, x2, y2):\n",
    "     result = math.sqrt((x2-x1)**2 + (y2-y1)**2)\n",
    "     return result\n",
    "\n",
    "print(\"The total distance between two point : \", distanceBetweeen(0,0,3,4))"
   ]
  },
  {
   "cell_type": "markdown",
   "metadata": {},
   "source": [
    "## UNIT - 2"
   ]
  },
  {
   "cell_type": "markdown",
   "metadata": {},
   "source": [
    "P1: square root"
   ]
  },
  {
   "cell_type": "code",
   "execution_count": 10,
   "metadata": {},
   "outputs": [
    {
     "name": "stdout",
     "output_type": "stream",
     "text": [
      "5.0\n"
     ]
    }
   ],
   "source": [
    "def squareRoot(number):\n",
    "    x = number\n",
    "    y = 1\n",
    "    while x > y:\n",
    "        x = (x + y) / 2\n",
    "        y = number / x\n",
    "    return x\n",
    "\n",
    "print(squareRoot(25))  \n"
   ]
  },
  {
   "cell_type": "markdown",
   "metadata": {},
   "source": [
    "P2: GCD (Greatest Common Divisor)"
   ]
  },
  {
   "cell_type": "code",
   "execution_count": 5,
   "metadata": {},
   "outputs": [
    {
     "name": "stdout",
     "output_type": "stream",
     "text": [
      "Greatest common divisor is  6\n"
     ]
    }
   ],
   "source": [
    "def gcb (a, b):\n",
    "    while b != 0:\n",
    "        a, b = b, a % b\n",
    "    return a\n",
    "\n",
    "print(\"Greatest common divisor is \",gcb(48,18))"
   ]
  },
  {
   "cell_type": "markdown",
   "metadata": {},
   "source": [
    "P3 : Exponentiation"
   ]
  },
  {
   "cell_type": "code",
   "execution_count": 13,
   "metadata": {},
   "outputs": [
    {
     "name": "stdout",
     "output_type": "stream",
     "text": [
      "Exponentiation value of base  2 exponent  3  is  8\n"
     ]
    }
   ],
   "source": [
    "def power(base, exp):\n",
    "    if exp == 0:\n",
    "        return 1\n",
    "    else:\n",
    "        return base * power(base, exp-1)\n",
    " \n",
    "base = 2\n",
    "exp = 3    \n",
    "print(\"Exponentiation value of base \",base,\"exponent \",exp,\" is \",power(2,3))"
   ]
  },
  {
   "cell_type": "markdown",
   "metadata": {},
   "source": [
    "P4: Sum an Array of Numbers"
   ]
  },
  {
   "cell_type": "code",
   "execution_count": 15,
   "metadata": {},
   "outputs": [
    {
     "name": "stdout",
     "output_type": "stream",
     "text": [
      "sum of array  [1, 2, 3, 4, 5]  is  15\n"
     ]
    }
   ],
   "source": [
    "def sunArray(arr):\n",
    "    total = 0\n",
    "    for num in arr:\n",
    "        total += num\n",
    "    return total\n",
    "\n",
    "array = [1,2,3,4,5]\n",
    "print(\"sum of array \",array ,\" is \",sunArray(array))"
   ]
  },
  {
   "cell_type": "markdown",
   "metadata": {},
   "source": [
    "P5: Linear search\n",
    "\n",
    "link: https://youtu.be/OKbgKTDgYdk?si=yS7GSW2XSXXDIU5c "
   ]
  },
  {
   "cell_type": "code",
   "execution_count": 23,
   "metadata": {},
   "outputs": [
    {
     "name": "stdout",
     "output_type": "stream",
     "text": [
      "1\n"
     ]
    }
   ],
   "source": [
    "def linearSearh(arr, target):\n",
    "    for num in range(len(arr)):\n",
    "        if arr[num] == target:\n",
    "            return num\n",
    "    return -1\n",
    "\n",
    "arr = [2,3,4,6,7,8]\n",
    "target = 3\n",
    "\n",
    "print(linearSearh(arr, target))\n"
   ]
  },
  {
   "cell_type": "markdown",
   "metadata": {},
   "source": [
    "P6: Binary search\n",
    "\n",
    "link: https://youtu.be/OxZj2S6bjS4?si=GvuYEcXWGfBjAf0c "
   ]
  },
  {
   "cell_type": "code",
   "execution_count": 27,
   "metadata": {},
   "outputs": [
    {
     "name": "stdout",
     "output_type": "stream",
     "text": [
      "3\n"
     ]
    }
   ],
   "source": [
    "def binarySearch(arr, target):\n",
    "    left, right = 0, len(arr)-1\n",
    "    while left <= right:\n",
    "        mid = (left + right) // 2\n",
    "        if arr[mid] == target:\n",
    "            return mid\n",
    "        elif arr[mid] < target:\n",
    "            left = mid + 1\n",
    "        else:\n",
    "            right = mid - 1\n",
    "    return -1\n",
    "\n",
    "print(binarySearch([1,2,3,4,5,6],4))"
   ]
  },
  {
   "cell_type": "markdown",
   "metadata": {},
   "source": [
    "## UNIT 5"
   ]
  },
  {
   "cell_type": "markdown",
   "metadata": {},
   "source": [
    "P1: File Handling"
   ]
  },
  {
   "cell_type": "code",
   "execution_count": null,
   "metadata": {},
   "outputs": [
    {
     "name": "stdout",
     "output_type": "stream",
     "text": [
      "My name is yash\n",
      "My surename is solanki\n"
     ]
    }
   ],
   "source": [
    "# writing\n",
    "with open(\"hello.txt\",\"w\") as file:\n",
    "    file.write(\"My name is yash\")\n",
    "\n",
    "with open(\"hello.txt\", \"a\") as file:\n",
    "    file.write(\"\\nMy surename is solanki\")\n",
    "\n",
    "# Reading\n",
    "with open(\"hello.txt\", \"r\") as file:\n",
    "    content = file.read()\n",
    "print(content)\n"
   ]
  },
  {
   "cell_type": "markdown",
   "metadata": {},
   "source": [
    "P2: Exception Handling"
   ]
  },
  {
   "cell_type": "code",
   "execution_count": null,
   "metadata": {},
   "outputs": [
    {
     "name": "stdout",
     "output_type": "stream",
     "text": [
      "You can't divide by zero\n",
      "\n",
      "Thanking you for using this program\n"
     ]
    }
   ],
   "source": [
    "try:\n",
    "    number = int(input(\"Enter the number : \"))\n",
    "    divide = 10 / number\n",
    "    print(divide)\n",
    "except ZeroDivisionError:\n",
    "    print(\"You can't divide by zero!\")\n",
    "except ValueError:\n",
    "    print(\"Enter the valid number!\")\n",
    "else:\n",
    "    print(\"calculate successfully.\")\n",
    "finally:\n",
    "    print(\"\\nThanking you for using this program\")"
   ]
  },
  {
   "cell_type": "markdown",
   "metadata": {},
   "source": [
    "P4: Word Count Program"
   ]
  },
  {
   "cell_type": "code",
   "execution_count": 39,
   "metadata": {},
   "outputs": [
    {
     "name": "stdout",
     "output_type": "stream",
     "text": [
      "8\n"
     ]
    }
   ],
   "source": [
    "def wordCount(filename):\n",
    "    with open(filename,\"r\") as file:\n",
    "        text = file.read()\n",
    "    word = text.split()\n",
    "    return len(word)\n",
    "\n",
    "print(wordCount('hello.txt'))"
   ]
  },
  {
   "cell_type": "markdown",
   "metadata": {},
   "source": [
    "P5: Copy File Program"
   ]
  },
  {
   "cell_type": "code",
   "execution_count": 41,
   "metadata": {},
   "outputs": [
    {
     "name": "stdout",
     "output_type": "stream",
     "text": [
      "Successfuly copied! None\n"
     ]
    }
   ],
   "source": [
    "def copyFile(src, dst):\n",
    "    with open(src,\"r\") as src_file:\n",
    "        contain = src_file.read()\n",
    "    with open(dst,\"w\") as dst_file:\n",
    "        dst_file.write(contain)\n",
    "\n",
    "print(\"Successfuly copied!\",copyFile(\"hello.txt\",\"byee.txt\"))"
   ]
  }
 ],
 "metadata": {
  "kernelspec": {
   "display_name": "Python 3",
   "language": "python",
   "name": "python3"
  },
  "language_info": {
   "codemirror_mode": {
    "name": "ipython",
    "version": 3
   },
   "file_extension": ".py",
   "mimetype": "text/x-python",
   "name": "python",
   "nbconvert_exporter": "python",
   "pygments_lexer": "ipython3",
   "version": "3.12.5"
  }
 },
 "nbformat": 4,
 "nbformat_minor": 2
}
