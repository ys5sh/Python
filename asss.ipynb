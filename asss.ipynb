{
 "cells": [
  {
   "cell_type": "code",
   "execution_count": 1,
   "metadata": {},
   "outputs": [
    {
     "name": "stdout",
     "output_type": "stream",
     "text": [
      "The distance between points (1, 2) and (4, 6) is 5.00\n"
     ]
    }
   ],
   "source": [
    "#  Write a python program to the distance between two points.\n",
    "\n",
    "import math\n",
    "\n",
    "def calculate_distance(point1, point2):\n",
    "    return math.sqrt((point2[0] - point1[0]) ** 2 + (point2[1] - point1[1]) ** 2)\n",
    "\n",
    "# Example usage\n",
    "point_a = (1, 2)\n",
    "point_b = (4, 6)\n",
    "distance = calculate_distance(point_a, point_b)\n",
    "print(f\"The distance between points {point_a} and {point_b} is {distance:.2f}\")\n"
   ]
  },
  {
   "cell_type": "code",
   "execution_count": 2,
   "metadata": {},
   "outputs": [
    {
     "name": "stdout",
     "output_type": "stream",
     "text": [
      "[4, 5, 1, 2, 3]\n"
     ]
    }
   ],
   "source": [
    "# Write a python program to circulate the values of n variable\n",
    "\n",
    "def circulate_values(n, positions):\n",
    "    positions = positions % len(n)  # Ensure positions is within the length of n\n",
    "    return n[-positions:] + n[:-positions]\n",
    "\n",
    "# Example usage\n",
    "n = [1, 2, 3, 4, 5]\n",
    "positions = 2\n",
    "result = circulate_values(n, positions)\n",
    "print(result)  # Output: [4, 5, 1, 2, 3]\n"
   ]
  },
  {
   "cell_type": "code",
   "execution_count": 3,
   "metadata": {},
   "outputs": [
    {
     "name": "stdout",
     "output_type": "stream",
     "text": [
      "The square root of 25 is approximately 5.0.\n"
     ]
    }
   ],
   "source": [
    "# Write a python program to calculate the square root of the give input without using built-in function\n",
    "\n",
    "def square_root(n):\n",
    "    if n < 0:\n",
    "        return \"Invalid input: Square root of negative number is not defined.\"\n",
    "    elif n == 0:\n",
    "        return 0\n",
    "    else:\n",
    "        guess = n / 2.0\n",
    "        while True:\n",
    "            new_guess = (guess + n / guess) / 2.0\n",
    "            if abs(new_guess - guess) < 0.00001:\n",
    "                return new_guess\n",
    "            guess = new_guess\n",
    "\n",
    "# Example usage\n",
    "input_number = 25\n",
    "result = square_root(input_number)\n",
    "print(f\"The square root of {input_number} is approximately {result}.\")\n"
   ]
  },
  {
   "cell_type": "code",
   "execution_count": 4,
   "metadata": {},
   "outputs": [
    {
     "name": "stdout",
     "output_type": "stream",
     "text": [
      "The GCD of 48 and 18 is 6.\n"
     ]
    }
   ],
   "source": [
    "# Write a python program to find the GCD using recursion.\n",
    "\n",
    "def gcd(a, b):\n",
    "    if b == 0:\n",
    "        return a\n",
    "    else:\n",
    "        return gcd(b, a % b)\n",
    "\n",
    "# Example usage\n",
    "num1 = 48\n",
    "num2 = 18\n",
    "result = gcd(num1, num2)\n",
    "print(f\"The GCD of {num1} and {num2} is {result}.\")\n"
   ]
  },
  {
   "cell_type": "code",
   "execution_count": 5,
   "metadata": {},
   "outputs": [
    {
     "name": "stdout",
     "output_type": "stream",
     "text": [
      "Element found at index: 2\n"
     ]
    }
   ],
   "source": [
    "# Write a python program to perform linear search on a list. \n",
    "\n",
    "def linear_search(arr, target):\n",
    "    for index, value in enumerate(arr):\n",
    "        if value == target:\n",
    "            return index\n",
    "    return -1\n",
    "\n",
    "# Example usage\n",
    "numbers = [10, 20, 30, 40, 50]\n",
    "target_value = 30\n",
    "result = linear_search(numbers, target_value)\n",
    "\n",
    "if result != -1:\n",
    "    print(f\"Element found at index: {result}\")\n",
    "else:\n",
    "    print(\"Element not found in the list.\")"
   ]
  },
  {
   "cell_type": "code",
   "execution_count": 6,
   "metadata": {},
   "outputs": [
    {
     "name": "stdout",
     "output_type": "stream",
     "text": [
      "2.345\n"
     ]
    }
   ],
   "source": [
    "# Write a program that reads in a string of digits that represents the digits after the decimal point of a number, num. Concatenate the input string together with '.' and num, and print the result. Ex: If input is 345, the program will print 2.345.\n",
    "\n",
    "num = 2\n",
    "digits = input(\"Enter the digits after the decimal point: \")\n",
    "result = f\"{num}.{digits}\"\n",
    "print(result)\n"
   ]
  },
  {
   "cell_type": "code",
   "execution_count": 7,
   "metadata": {},
   "outputs": [
    {
     "name": "stdout",
     "output_type": "stream",
     "text": [
      "The roots of the quadratic equation are: ((-2+0j), (-3+0j))\n"
     ]
    }
   ],
   "source": [
    "# Write a python program to find the roots of quadratic equation. \n",
    "\n",
    "import cmath\n",
    "\n",
    "def find_roots(a, b, c):\n",
    "    d = (b**2) - (4*a*c)\n",
    "    root1 = (-b + cmath.sqrt(d)) / (2*a)\n",
    "    root2 = (-b - cmath.sqrt(d)) / (2*a)\n",
    "    return root1, root2\n",
    "\n",
    "# Example usage\n",
    "a = 1\n",
    "b = 5\n",
    "c = 6\n",
    "roots = find_roots(a, b, c)\n",
    "print(\"The roots of the quadratic equation are:\", roots)\n"
   ]
  },
  {
   "cell_type": "code",
   "execution_count": 9,
   "metadata": {},
   "outputs": [
    {
     "name": "stdout",
     "output_type": "stream",
     "text": [
      "Worked 9:30 to 11:00\n",
      "Total hours: 1.5\n",
      "Payment: 225.0\n"
     ]
    }
   ],
   "source": [
    "''' Write a python program for a part-time job calculate how much money \n",
    "you will earn. Write a program that inputs the time you start working, \n",
    "the time you stop working, and your hourly pay rate (example input in \n",
    "bold):  \n",
    "Starting hour: 9 \n",
    "Starting minute: 30 \n",
    "Stopping hour: 11 \n",
    "Stopping minute: 0 \n",
    "Hourly rate: 150 \n",
    "Based on the user input, your program should calculate and \n",
    "display the following results: \n",
    "Worked 9:30 to 11:00 \n",
    "Total hours: 1.5 \n",
    "Payment:  225 '''\n",
    "\n",
    "# Part-time Job Earnings Calculator\n",
    "\n",
    "def calculate_earnings():\n",
    "    start_hour = int(input(\"Starting hour: \"))\n",
    "    start_minute = int(input(\"Starting minute: \"))\n",
    "    stop_hour = int(input(\"Stopping hour: \"))\n",
    "    stop_minute = int(input(\"Stopping minute: \"))\n",
    "    hourly_rate = float(input(\"Hourly rate: \"))\n",
    "\n",
    "    start_time = start_hour + start_minute / 60\n",
    "    stop_time = stop_hour + stop_minute / 60\n",
    "    total_hours = stop_time - start_time\n",
    "    payment = total_hours * hourly_rate\n",
    "\n",
    "    print(f\"Worked {start_hour}:{start_minute:02d} to {stop_hour}:{stop_minute:02d}\")\n",
    "    print(f\"Total hours: {total_hours}\")\n",
    "    print(f\"Payment: {payment}\")\n",
    "\n",
    "calculate_earnings()\n",
    "\n",
    "\n",
    "\n"
   ]
  },
  {
   "cell_type": "code",
   "execution_count": 11,
   "metadata": {},
   "outputs": [
    {
     "name": "stdout",
     "output_type": "stream",
     "text": [
      "Green\n"
     ]
    }
   ],
   "source": [
    "''' Write a python program that reads in an integer representing a visible \n",
    "light wavelength in nanometers. Print the corresponding color using the \n",
    "following inclusive ranges: \n",
    "• Violet: 380–449 \n",
    "• Blue: 450–484 \n",
    "• Cyan: 485–499 \n",
    "• Green: 500–564 \n",
    "• Yellow: 565–589 \n",
    "• Orange: 590–624 \n",
    "• Red: 625–750 \n",
    "Assume the input is within the visible light spectrum, 380-750 inclusive. \n",
    "Given input:550 \n",
    "The output is: Green '''\n",
    "\n",
    "def identify_color(wavelength):\n",
    "    if 380 <= wavelength <= 449:\n",
    "        return \"Violet\"\n",
    "    elif 450 <= wavelength <= 484:\n",
    "        return \"Blue\"\n",
    "    elif 485 <= wavelength <= 499:\n",
    "        return \"Cyan\"\n",
    "    elif 500 <= wavelength <= 564:\n",
    "        return \"Green\"\n",
    "    elif 565 <= wavelength <= 589:\n",
    "        return \"Yellow\"\n",
    "    elif 590 <= wavelength <= 624:\n",
    "        return \"Orange\"\n",
    "    elif 625 <= wavelength <= 750:\n",
    "        return \"Red\"\n",
    "    else:\n",
    "        return \"Out of range\"\n",
    "\n",
    "# Input\n",
    "wavelength = 550\n",
    "# Output\n",
    "print(identify_color(wavelength))\n"
   ]
  },
  {
   "cell_type": "code",
   "execution_count": 12,
   "metadata": {},
   "outputs": [
    {
     "name": "stdout",
     "output_type": "stream",
     "text": [
      "Even numbers between 4 and 6 inclusive:\n",
      "4\n",
      "6\n",
      "Odd numbers between 4 and 6 exclusive:\n",
      "5\n"
     ]
    }
   ],
   "source": [
    "'''Write a python program that reads two integer values, n1 and n2, with n1 < \n",
    "n2, and performs the following tasks: \n",
    "1. Prints all even numbers between the two provided numbers (inclusive \n",
    "of both), in ascending order. \n",
    "2. Prints all odd numbers between the two provided numbers (exclusive \n",
    "of both), in descending order.\n",
    "'''\n",
    "\n",
    "n1 = int(input(\"Enter the first integer (n1): \"))\n",
    "n2 = int(input(\"Enter the second integer (n2): \"))\n",
    "\n",
    "if n1 < n2:\n",
    "    print(\"Even numbers between\", n1, \"and\", n2, \"inclusive:\")\n",
    "    for num in range(n1, n2 + 1):\n",
    "        if num % 2 == 0:\n",
    "            print(num)\n",
    "\n",
    "    print(\"Odd numbers between\", n1, \"and\", n2, \"exclusive:\")\n",
    "    for num in range(n1 + 1, n2):\n",
    "        if num % 2 != 0:\n",
    "            print(num)\n",
    "else:\n",
    "    print(\"Please ensure that n1 is less than n2.\")\n"
   ]
  },
  {
   "cell_type": "code",
   "execution_count": 13,
   "metadata": {},
   "outputs": [
    {
     "name": "stdout",
     "output_type": "stream",
     "text": [
      "15\n"
     ]
    }
   ],
   "source": [
    "# Write a program that, given a list, calculates the sum of all integer values less than 10. If a value greater than or equal to 10 is in the list, no output should be printed.\n",
    "\n",
    "def sum_integers_less_than_ten(numbers):\n",
    "    if any(num >= 10 for num in numbers):\n",
    "        return\n",
    "    total = sum(num for num in numbers if isinstance(num, int) and num < 10)\n",
    "    print(total)\n",
    "\n",
    "# Example usage\n",
    "numbers_list = [1, 2, 3, 4, 5]\n",
    "sum_integers_less_than_ten(numbers_list)\n",
    " "
   ]
  },
  {
   "cell_type": "code",
   "execution_count": 8,
   "metadata": {},
   "outputs": [
    {
     "name": "stdout",
     "output_type": "stream",
     "text": [
      "The lists contain the same elements: True\n"
     ]
    }
   ],
   "source": [
    "#  Write a python program that check two list contain same elements but in different order.\n",
    "\n",
    " # Check if two lists contain the same elements in different order\n",
    "\n",
    "def check_lists_equal(list1, list2):\n",
    "    return sorted(list1) == sorted(list2)\n",
    "\n",
    "# Example usage\n",
    "list_a = [1, 2, 3, 4]\n",
    "list_b = [4, 3, 2, 1]\n",
    "\n",
    "result = check_lists_equal(list_a, list_b)\n",
    "print(\"The lists contain the same elements:\", result)\n"
   ]
  },
  {
   "cell_type": "code",
   "execution_count": null,
   "metadata": {},
   "outputs": [],
   "source": [
    "# Write a python program that use a recursive function that remove duplicates from list. \n",
    "\n",
    "def remove_duplicates(lst):\n",
    "    if not lst:\n",
    "        return []\n",
    "    if lst[0] in lst[1:]:\n",
    "        return remove_duplicates(lst[1:])\n",
    "    return [lst[0]] + remove_duplicates(lst[1:])\n",
    "\n",
    "# Example usage\n",
    "my_list = [1, 2, 2, 3, 4, 4, 5]\n",
    "unique_list = remove_duplicates(my_list)\n",
    "print(unique_list)\n"
   ]
  },
  {
   "cell_type": "code",
   "execution_count": null,
   "metadata": {},
   "outputs": [],
   "source": [
    "# Write a python program to replace all the character of list except the given character. \n",
    "\n",
    "\n",
    "def replace_characters(input_list, char_to_keep):\n",
    "    return [char if char == char_to_keep else '*' for char in input_list]\n",
    "\n",
    "# Example usage\n",
    "input_list = ['a', 'b', 'c', 'd', 'e']\n",
    "char_to_keep = 'c'\n",
    "result = replace_characters(input_list, char_to_keep)\n",
    "print(result)  # Output: ['*', '*', 'c', '*', '*']\n"
   ]
  },
  {
   "cell_type": "code",
   "execution_count": 14,
   "metadata": {},
   "outputs": [
    {
     "name": "stdout",
     "output_type": "stream",
     "text": [
      "Hello World This Is Python\n"
     ]
    }
   ],
   "source": [
    "# Write a Python program that takes input as a list of strings, converts all the list members' first letters to capital letters, and then makes a string from the list members\n",
    "\n",
    "def capitalize_and_join(strings):\n",
    "    capitalized_strings = [s.capitalize() for s in strings]\n",
    "    result = ' '.join(capitalized_strings)\n",
    "    return result\n",
    "\n",
    "# Example usage\n",
    "input_list = ['hello', 'world', 'this', 'is', 'python']\n",
    "output_string = capitalize_and_join(input_list)\n",
    "print(output_string)\n"
   ]
  },
  {
   "cell_type": "code",
   "execution_count": 15,
   "metadata": {},
   "outputs": [
    {
     "name": "stdout",
     "output_type": "stream",
     "text": [
      "The while loop condition has been met.\n"
     ]
    }
   ],
   "source": [
    "\n",
    "# Write a program that takes user inputs in a while loop until the user enters \"begin\". Test the code with the given input values to check that the loop does not terminate until the input is \"begin\". Once the input \"begin\" is received, print \"The while loop condition has been met.\". \n",
    "\n",
    "# User Input Loop\n",
    "user_input = \"\"\n",
    "while user_input.lower() != \"begin\":\n",
    "    user_input = input(\"Enter a value (type 'begin' to exit): \")\n",
    "print(\"The while loop condition has been met.\")\n"
   ]
  },
  {
   "cell_type": "code",
   "execution_count": null,
   "metadata": {},
   "outputs": [],
   "source": [
    "# Write a program that, given a list, calculates the sum of all integer values less than 10. If a value greater than or equal to 10 is in the list, no output should be printed. \n",
    "\n",
    "def sum_integers_less_than_ten(numbers):\n",
    "    if any(num >= 10 for num in numbers):\n",
    "        return\n",
    "    total = sum(num for num in numbers if isinstance(num, int) and num < 10)\n",
    "    print(total)\n",
    "\n",
    "# Example usage\n",
    "numbers_list = [1, 2, 3, 4, 5, 6, 7, 8, 9]\n",
    "sum_integers_less_than_ten(numbers_list)\n"
   ]
  },
  {
   "cell_type": "code",
   "execution_count": 16,
   "metadata": {},
   "outputs": [
    {
     "name": "stdout",
     "output_type": "stream",
     "text": [
      "Launching practice on \n"
     ]
    }
   ],
   "source": [
    "''' \n",
    "Write a program that reads in a selected game mode and calls one of two \n",
    "functions to launch the game. If the input is \"br\", call battle_royale(). \n",
    "Otherwise, call practice(). \n",
    "battle_royale(): \n",
    "• Reads in the number of players. \n",
    "• Computes the number of teammates still needed. A full team is 3 players. \n",
    "• Calls the function find_teammates() with the calculated number. Note: \n",
    "find_teammates() is provided and does not need to be edited. \n",
    "• Prints \"Match starting . . .\".  \n",
    "practice(): \n",
    "• Reads in a string representing the desired map. \n",
    "•Prints \"Launching practice on [desired map]\".\n",
    "'''\n",
    "\n",
    "def main():\n",
    "    game_mode = input(\"Select game mode (br/practice): \")\n",
    "    if game_mode == \"br\":\n",
    "        battle_royale()\n",
    "    else:\n",
    "        practice()\n",
    "\n",
    "def battle_royale():\n",
    "    num_players = int(input(\"Enter the number of players: \"))\n",
    "    teammates_needed = 3 - (num_players % 3)\n",
    "    find_teammates(teammates_needed)\n",
    "    print(\"Match starting . . .\")\n",
    "\n",
    "def practice():\n",
    "    desired_map = input(\"Enter the desired map: \")\n",
    "    print(f\"Launching practice on {desired_map}\")\n",
    "\n",
    "def find_teammates(teammates_needed):\n",
    "    print(f\"Finding {teammates_needed} teammates...\")\n",
    "\n",
    "if __name__ == \"__main__\":\n",
    "    main()\n"
   ]
  },
  {
   "cell_type": "code",
   "execution_count": 17,
   "metadata": {},
   "outputs": [
    {
     "name": "stdout",
     "output_type": "stream",
     "text": [
      "You have been alive for approximately 730845 days.\n"
     ]
    }
   ],
   "source": [
    "# Write a function, days_alive(), that takes in an age in years and outputs the estimated days the user has been alive as an integer. Assume each year has 365.24 days. Use round(), which takes a number and returns the nearest whole number.Then write a main program that reads in a user's age and outputs the \n",
    "\n",
    "\n",
    "def days_alive(age):\n",
    "    return round(age * 365.24)\n",
    "\n",
    "if __name__ == \"__main__\":\n",
    "    user_age = float(input(\"Enter your age in years: \"))\n",
    "    print(f\"You have been alive for approximately {days_alive(user_age)} days.\")\n"
   ]
  }
 ],
 "metadata": {
  "kernelspec": {
   "display_name": "Python 3",
   "language": "python",
   "name": "python3"
  },
  "language_info": {
   "codemirror_mode": {
    "name": "ipython",
    "version": 3
   },
   "file_extension": ".py",
   "mimetype": "text/x-python",
   "name": "python",
   "nbconvert_exporter": "python",
   "pygments_lexer": "ipython3",
   "version": "3.12.5"
  }
 },
 "nbformat": 4,
 "nbformat_minor": 2
}
