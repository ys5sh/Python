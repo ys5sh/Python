{
 "cells": [
  {
   "cell_type": "markdown",
   "metadata": {},
   "source": [
    "INTRODUCTION OF PYTHON\n",
    "\n",
    "---\n",
    "\n",
    "- Python is a high-level, general-purpose programming (Web, App, Data Science, AI/ML, Data Analyst) language known for its readability and ease of use. And don’t worry about memory management, Hard Drive Interaction.\n",
    "- Python is an interpreted language where program executing one statement at a time, which make convene for modify and debugging.\n",
    "\n",
    "`Feature of Python`\n",
    "\n",
    "- Ease to Code\n",
    "- Object Oriented\n",
    "- GUI Programming support\n",
    "- High level Language\n",
    "- Large community support\n",
    "- Ease to debug\n",
    "- Extendable & Embeddable\n",
    "- Multi Programming paradigm\n"
   ]
  },
  {
   "cell_type": "markdown",
   "metadata": {},
   "source": [
    "VARIABLE\n",
    "\n",
    "---\n",
    "\n",
    "- We use variables to temporarily store data in computer’s memory. It serves as a symbolic reference to a value.\n",
    "- It uses the assignment operator (=)\n",
    "\n",
    "**--------------------- Scope ---------------------**\n",
    "\n",
    "- `Global variable`: Accessible from anywhere in the program.\n",
    "- `Local variable`: Defined within a function and only accessible within that function."
   ]
  },
  {
   "cell_type": "code",
   "execution_count": 9,
   "metadata": {},
   "outputs": [
    {
     "name": "stdout",
     "output_type": "stream",
     "text": [
      "Sum of two variable is :  102\n"
     ]
    }
   ],
   "source": [
    "# By default data type of input is String\n",
    "va = input(\"Enter any value : \")  \n",
    "\n",
    "# Type Annotation \n",
    "vb: int = 45\n",
    "vd = int(input(\"Enter another value : \"))\n",
    "\n",
    "# Type casting changed from string to int\n",
    "vc = int(va) + vb + vd # (+) for concatinate\n",
    "\n",
    "print(\"Sum of two variable is : \",vc)"
   ]
  },
  {
   "cell_type": "markdown",
   "metadata": {},
   "source": [
    "DATA TYPE\n",
    "\n",
    "---\n",
    "Python has several built-in data types that determine the kind of values a variable can store.\n",
    "\n",
    "- `Numeric`: int, float, complex (2+2j)\n",
    "- `Sequence`: list [], tuple (), string\n",
    "- `Mapping`: dictionary {}\n",
    "- `Set`: set, frozen set\n",
    "- `Boolean`\n",
    "\n",
    "\n",
    "**---------------------Type Casting ---------------------**\n",
    "\n",
    " Involves changing the data type of a variable or expression from one to another.\n",
    "\n",
    "- `Implicit` : Python automatically converts the data type of a variable or expression.\n",
    "- `Explicit` : Python requires the programmer to explicitly convert the data type of a variable or expression."
   ]
  },
  {
   "cell_type": "code",
   "execution_count": null,
   "metadata": {},
   "outputs": [],
   "source": [
    "# Numeric data type\n",
    "dt_int = 4\n",
    "dt_float = 5.7\n",
    "dt_complex = 3 + 2j\n",
    "\n",
    "#Sequance data type\n",
    "dt_string = \"Hello welcome to python\"\n",
    "dt_list = [23,45,67, \"tushar\"]\n",
    "dt_tuple = (45,\"tushar\", 56,78,\"how\")\n",
    "\n",
    "#Mappling data type\n",
    "dt_dictionary = {\n",
    "    1: \"Cake\",\n",
    "    2: \"Cold Drink\"\n",
    "}\n",
    "\n",
    "#set data type\n",
    "dt_set = {34,67,\"how\", \"when\", \"how\"}\n",
    "\n",
    "#Boolean data type (True or False)\n",
    "dt_boolean = True"
   ]
  },
  {
   "cell_type": "markdown",
   "metadata": {},
   "source": [
    "COMMENTS\n",
    "\n",
    "---\n",
    "\n",
    "- `Single Line Comment`: to clear logic, variable, function and expression , (#) hash\n",
    "- `Multi line Comment`: purpose, author, version,dependencies, to give a long description (''' ''') triple quotes"
   ]
  },
  {
   "cell_type": "code",
   "execution_count": null,
   "metadata": {},
   "outputs": [],
   "source": [
    "# Single sing comment\n",
    "''' \n",
    "    Multi line  \n",
    "    \n",
    "'''"
   ]
  },
  {
   "cell_type": "markdown",
   "metadata": {},
   "source": [
    "OPERATOR\n",
    "\n",
    "---\n",
    "\n",
    "`Arithmetic Operators:`\n",
    "- Addition: +\n",
    "- Subtraction: -\n",
    "- Multiplication: *\n",
    "- Division: /\n",
    "- Floor division: // (returns the integer quotient)\n",
    "- Modulo: % (returns the remainder of division)\n",
    "- Exponentiation: **\n",
    "\n",
    "`Comparison Operators:`\n",
    "-\tEqual to: ==\n",
    "-\tNot equal to: !=\n",
    "-\tGreater than: >\n",
    "-\tLess than: <\n",
    "-\tGreater than or equal to: >=\n",
    "-\tLess than or equal to: <=   \n",
    "\n",
    "`Logical Operators:`\n",
    "-\tAnd: and\n",
    "-\tOr: or\n",
    "-\tNot: not   \n",
    "\n",
    "`Assignment Operators:`\n",
    "-\tSimple assignment: =\n",
    "-\tAddition assignment: +=\n",
    "-\tSubtraction assignment: -=\n",
    "-\tMultiplication assignment: *=\n",
    "-\tDivision assignment: /=   \n",
    "-\tFloor division assignment: //=\n",
    "-\tModulo assignment: %=\n",
    "-\tExponentiation assignment: **=  \n",
    "\n",
    "`Membership Operators:`\n",
    "-\tIn: in (checks if an element is in a sequence)\n",
    "-\tNot in: not in\n",
    "\n",
    "`Identity Operators:`\n",
    "-\tIs: is (checks if two objects are the same)\n",
    "-\tIs not: is not\n",
    "\n",
    "`Bitwise Operators:`\n",
    "-\tBitwise AND: &\n",
    "-\tBitwise OR: |\n",
    "-\tBitwise XOR: ^\n",
    "-\tBitwise NOT: ~\n",
    "-\tLeft shift: <<\n",
    "-\tRight shift: >>\n",
    "\n",
    "`Ternary Operator:` value = expression1 if condition else expression2\n",
    "\n",
    "\n",
    "Some Special operator in Python : \n",
    "\n",
    "- `Slice Operator [::]` : used to extract a portion of a sequence, such as a string, list, or tuple. It's denoted by [start:stop:step], \n",
    "\n",
    "\n"
   ]
  },
  {
   "cell_type": "code",
   "execution_count": 14,
   "metadata": {},
   "outputs": [
    {
     "name": "stdout",
     "output_type": "stream",
     "text": [
      "add :  11\n",
      "7\n",
      "None\n"
     ]
    }
   ],
   "source": [
    "op_a = 4\n",
    "op_b =7\n",
    "\n",
    "#Arthimatic Operator\n",
    "print(\"add : \", op_a + op_b)\n",
    "\n",
    "# Ternary operator\n",
    "op_result =  print(op_a) if (op_a > op_b) else  print(op_b)\n",
    "print(op_result)"
   ]
  },
  {
   "cell_type": "markdown",
   "metadata": {},
   "source": [
    "CONDITION STATEMENT\n",
    "\n",
    "---\n",
    "\n",
    "Conditional statements in Python allow you to execute different code blocks based on conditions.\n",
    "\n",
    "- `if statement`: checks a condition and executes code if it's true.\n",
    "- `if-else statement`: executes one block if true, another if false. \n",
    "- `if-elif-else statement`: provides multiple conditions and corresponding actions.\n",
    "- `Match Statement`: Python is a way to choose which code to run based on the value of a variable. (Python3.0.1)\n"
   ]
  },
  {
   "cell_type": "code",
   "execution_count": 19,
   "metadata": {},
   "outputs": [
    {
     "name": "stdout",
     "output_type": "stream",
     "text": [
      "45\n"
     ]
    }
   ],
   "source": [
    "# if statement\n",
    "# if else statement\n",
    "cs_a = 34\n",
    "cs_b = 45\n",
    "\n",
    "if cs_a < cs_b:\n",
    "    print(cs_b)\n",
    "else:\n",
    "    print(cs_a)"
   ]
  },
  {
   "cell_type": "code",
   "execution_count": 20,
   "metadata": {},
   "outputs": [
    {
     "name": "stdout",
     "output_type": "stream",
     "text": [
      "67\n"
     ]
    }
   ],
   "source": [
    "# of elif else statment\n",
    "cs_c = 67\n",
    "\n",
    "if cs_a > cs_b:\n",
    "    print(cs_a)\n",
    "elif cs_b > cs_c:\n",
    "    print(cs_b)\n",
    "else:\n",
    "    print(cs_c)"
   ]
  },
  {
   "cell_type": "code",
   "execution_count": 21,
   "metadata": {},
   "outputs": [
    {
     "name": "stdout",
     "output_type": "stream",
     "text": [
      "your lunch is ready\n"
     ]
    }
   ],
   "source": [
    "# match statment\n",
    "\n",
    "mt_choice = int(input(\"1: Lunch, 2: Breakfast 3: Dinner : \"))\n",
    "match mt_choice:\n",
    "    case 1:\n",
    "        print(\"Your Lunch is ready\")\n",
    "    case 2:\n",
    "        print(\"Your Breakfast is ready\")\n",
    "    case 3:\n",
    "        print(\"Your Dinner is ready\")    "
   ]
  },
  {
   "cell_type": "markdown",
   "metadata": {},
   "source": [
    "LOOP STATEMENT\n",
    "\n",
    "---\n",
    "\n",
    "Loops are programming constructs that allow you to repeatedly execute a block of code until a certain condition is met.\n",
    "\n",
    "- `For loop:` Used to iterate over a sequence (like a list, tuple, string, or range). Executes the loop body once for each element in the sequence.\n",
    "- `While loop:` Executes a block of code as long as a specified condition is true. The condition is checked at the beginning of each iteration.\n",
    "\n",
    "\n",
    "Additionally, there are other types of loops in Python, such as:\n",
    "\n",
    "- `Range-based for loop:` Used to iterate over a range of numbers.\n",
    "- `List comprehension:` A concise way to create a new list by iterating over an existing list.\n",
    "- `Generator expression:` A concise way to create a generator function.\n",
    "\n"
   ]
  },
  {
   "cell_type": "code",
   "execution_count": 24,
   "metadata": {},
   "outputs": [
    {
     "name": "stdout",
     "output_type": "stream",
     "text": [
      "0\n",
      "1\n",
      "2\n",
      "3\n",
      "4\n",
      "5\n"
     ]
    }
   ],
   "source": [
    "#While loop statement\n",
    "ls_a = 0\n",
    "while 5  >= ls_a:\n",
    "    print(ls_a)\n",
    "    ls_a += 1"
   ]
  },
  {
   "cell_type": "code",
   "execution_count": 25,
   "metadata": {},
   "outputs": [
    {
     "name": "stdout",
     "output_type": "stream",
     "text": [
      "apple\n",
      "mango\n",
      "bannna\n",
      "Grapes\n"
     ]
    }
   ],
   "source": [
    "#For loop statement\n",
    "fruits = [\"apple\", \"mango\", \"bannna\", 'Grapes']\n",
    "for fruit in fruits:\n",
    "    print(fruit)"
   ]
  },
  {
   "cell_type": "code",
   "execution_count": 26,
   "metadata": {},
   "outputs": [
    {
     "name": "stdout",
     "output_type": "stream",
     "text": [
      "apple\n",
      "mango\n",
      "bannna\n",
      "Grapes\n"
     ]
    }
   ],
   "source": [
    "'''\n",
    "For Range statment\n",
    "\n",
    "The range() function is commonly used in conjunction with for loops in Python to iterate over a sequence of numbers. This provides a convenient and efficient way to perform repetitive tasks or operations.\n",
    "\n",
    "start: The starting value of the sequence (default is 0).\n",
    "stop: The ending value of the sequence (exclusive).\n",
    "step: The step size between numbers (default is 1).\n",
    "\n",
    "'''\n",
    "for i in range(len(fruits)):\n",
    "    print(fruits[i])"
   ]
  },
  {
   "cell_type": "markdown",
   "metadata": {},
   "source": [
    "STRING\n",
    "\n",
    "---\n",
    "- String is a sequence of characters enclosed in either single quotes ('') or double quotes (“”). \n",
    "- Contain letters, numbers, symbols and even spaces.\n",
    "\n",
    "String Operation:\n",
    "\n",
    "-\t`Concatenation:` Combining strings using the + operator.\n",
    "-\t`Repetition:` Repeating a string using the * operator.\n",
    "-\t`Length:` Finding the length of a string using the len() function.\n",
    "-\t`Slicing:` Extracting substrings using indexing and slicing.\n",
    "-\t`Membership:` Checking if a character or substring is in a string using the in operator.\n",
    "-\t`Methods:` Strings have many built-in methods for various operations, such as upper(), lower(), capitalize(), find(), capitalize(), replace(), split(), join()\n",
    "-\t`f-strings:` A convenient way to format strings using placeholders within the string itself \n",
    "\n"
   ]
  },
  {
   "cell_type": "code",
   "execution_count": 48,
   "metadata": {},
   "outputs": [
    {
     "name": "stdout",
     "output_type": "stream",
     "text": [
      "concatenate :  absc\n",
      "Repetition :  scscscscsc\n",
      "length :  2\n",
      "Character is present\n",
      "SC\n",
      "1\n",
      "yc\n",
      "we have 23\n"
     ]
    }
   ],
   "source": [
    "st_a = 23\n",
    "st_b = 'sc'\n",
    "st_c = 'ab'\n",
    "\n",
    "# concatenate\n",
    "print(\"concatenate : \",st_c + st_b)\n",
    "\n",
    "# Repetition\n",
    "print(\"Repetition : \",st_b*5)\n",
    "\n",
    "# length\n",
    "print(\"length : \",len(st_b))\n",
    "\n",
    "# Membership\n",
    "charactor = 's' # searching the charactor or value in string\n",
    "if charactor in st_b:\n",
    "    print(\"Character is present\")\n",
    "else:\n",
    "    print(\"Character is not present\")\n",
    "    \n",
    "# Methods\n",
    "print(st_b.upper())\n",
    "print(st_b.find('c'))\n",
    "print(st_b.replace('s', 'y'))\n",
    "# print(st_b.slice())\n",
    "\n",
    "# fstring\n",
    "print(f\"we have {st_a}\")"
   ]
  },
  {
   "cell_type": "markdown",
   "metadata": {},
   "source": [
    "LIST\n",
    "\n",
    "---\n",
    "- List is order collection , can store different data type\n",
    "- Mutable, we can easily remove, add element\n",
    "- Created using square bracket [] and separated by comma [,]\n",
    "- It represent various data structure such as arrays, stacks, queues and more\n",
    "\n",
    "Common List Methods\n",
    "\n",
    "- `append():` Adds an element to the end of the list.\n",
    "- `insert():` Inserts an element at a specified index.\n",
    "- `remove():` Removes the first occurrence of a value.\n",
    "- `pop():` Removes an element at a specified index or the last element.\n",
    "- `sort():` Sorts the elements in ascending order.\n",
    "- `reverse():` Reverses the order of the elements.\n",
    "- `len():` Returns the length of the list.\n",
    "\n"
   ]
  },
  {
   "cell_type": "code",
   "execution_count": 12,
   "metadata": {},
   "outputs": [
    {
     "name": "stdout",
     "output_type": "stream",
     "text": [
      "<class 'list'>\n",
      "[23, 45, 67, 7878, 'Hello', 'Welcome', 'Hello']\n",
      "\n",
      "100000\n",
      "23\n",
      "45\n",
      "67\n",
      "7878\n",
      "Hello\n",
      "Welcome\n",
      "Hello\n",
      "welcome\n",
      "[100000, 23, 45, 7878, 'Hello', 'Welcome', 'Hello']\n",
      "['Hello', 'Welcome', 'Hello', 7878, 45, 23, 100000]\n",
      "7\n",
      "\n",
      "Hello\n",
      "Welcome\n",
      "Hello\n",
      "7878\n",
      "45\n",
      "23\n",
      "100000\n"
     ]
    }
   ],
   "source": [
    "py_list = [23,45,67,7878,\"Hello\", \"Welcome\", \"Hello\"]\n",
    "print(type(py_list))\n",
    "print(py_list)\n",
    "\n",
    "py_list.append(\"welcome\")\n",
    "py_list.insert(0,100000)\n",
    "\n",
    "print()\n",
    "for i in py_list:\n",
    "    print(i)\n",
    "\n",
    "py_list.remove(67)\n",
    "py_list.pop(-1)\n",
    "print(py_list)\n",
    "\n",
    "py_list.reverse()\n",
    "print(py_list)\n",
    "print(len(py_list))\n",
    "\n",
    "print()\n",
    "for i in range(len(py_list)):\n",
    "    print(py_list[i])\n"
   ]
  },
  {
   "cell_type": "markdown",
   "metadata": {},
   "source": [
    "TUPLES\n",
    "\n",
    "---\n",
    "\n",
    "- A tuple is a fixed-length, immutable sequence of python objects.\n",
    "- It is like list, but once we created we cannot add or remove or chagne existing items\n",
    "- Tuple can be used in dictionaries because they are hashable\n",
    "- Created using round brackets ()\n",
    "\n",
    "Common Tuple Operations:\n",
    "\n",
    "- `Indexing:` Accessing elements by their position. []\n",
    "- `Slicing:` Extracting subsets of elements. [:]\n",
    "- `Concatenation:` Combining tuples using the + operator.\n",
    "- `Repetition:` Creating new tuples by repeating an existing tuple using the * operator.\n",
    "- `Membership testing:` Checking if an element exists in a tuple using the in operator.\n",
    "\n",
    "\n"
   ]
  },
  {
   "cell_type": "code",
   "execution_count": 26,
   "metadata": {},
   "outputs": [
    {
     "name": "stdout",
     "output_type": "stream",
     "text": [
      "<class 'tuple'>\n",
      "(34, 56, 34, 'hii', 'hey', 'hello', 'hey', 34, 56, 78, 67.6, 'Byee', 'See you soon')\n",
      "\n",
      "Slicing :  (34, 'hii', 'hey')\n",
      "\n",
      "Indexing :  hello\n",
      "Repetation :  (34, 56, 34, 'hii', 'hey', 'hello', 'hey', 34, 56, 34, 'hii', 'hey', 'hello', 'hey')\n",
      "\n",
      "Membership Testing :  True\n",
      "\n",
      "Membership Testing :  False\n"
     ]
    }
   ],
   "source": [
    "py_tuple = (34,56,34,\"hii\", \"hey\", \"hello\", \"hey\")\n",
    "print(type(py_tuple))\n",
    "py_tuple2 = (34,56,78,67.6,\"Byee\", \"See you soon\")\n",
    "\n",
    "#concatinate\n",
    "print(py_tuple + py_tuple2)\n",
    "\n",
    "#slice\n",
    "print(\"\\nSlicing : \", py_tuple[2:5])\n",
    "\n",
    "#Indexing\n",
    "print(\"\\nIndexing : \",py_tuple[5])\n",
    "\n",
    "#Repretation\n",
    "print(\"Repetation : \",py_tuple*2)\n",
    "\n",
    "# Membership Testing\n",
    "print(\"\\nMembership Testing : \", 34 in py_tuple)\n",
    "print(\"\\nMembership Testing : \", 34 not in py_tuple)\n"
   ]
  },
  {
   "cell_type": "markdown",
   "metadata": {},
   "source": [
    "DICTIONARY\n",
    "\n",
    "---\n",
    "\n",
    "- Is a collection of key value pair.\n",
    "- Mutable, means we can add remove the elemet after creation\n",
    "- key must be unique and immutable type like int, float, string, tuple, frozenset\n",
    "- Created using curly brackets {}\n",
    "\n",
    "Common Dictionary Methods:\n",
    "\n",
    "- `keys():` Returns a view of the dictionary's keys.\n",
    "- `values():` Returns a view of the dictionary's values.\n",
    "- `items():` Returns a view of the dictionary's key-value pairs.\n",
    "- `get():` Retrieves a value for a key, with an optional default value if the key is not found.\n",
    "- `update():` Merges another dictionary into the current one.\n",
    "- `clear():` Removes all key-value pairs from the dictionary.\n",
    "- `copy():` returnt he shallow copy\n",
    "\n",
    "\n"
   ]
  },
  {
   "cell_type": "code",
   "execution_count": 47,
   "metadata": {},
   "outputs": [
    {
     "name": "stdout",
     "output_type": "stream",
     "text": [
      "<class 'dict'>\n",
      "\n",
      " {'name': 'Yashraj singh solanki', 'age': 30, 'Course': 'MCA'}\n",
      "\n",
      " Yashraj singh solanki\n",
      "\n",
      " change the name :  {'name': 'tushar', 'age': 30, 'Course': 'MCA'}\n",
      "\n",
      " By get :  tushar\n",
      "\n",
      " by value :  tushar\n",
      "\n",
      " by items :  dict_items([('name', 'tushar'), ('age', 30), ('Course', 'MCA')])\n",
      "\n",
      "('name', 'tushar')\n",
      "('age', 30)\n",
      "('Course', 'MCA')\n",
      "\n",
      " clear() => Dictionary is empty :  {}\n"
     ]
    }
   ],
   "source": [
    "dic_items = {\n",
    "    \"name\": \"Yashraj singh solanki\",\n",
    "    \"age\": 30,\n",
    "    \"Course\": \"MCA\"\n",
    "}\n",
    "print(type(dic_items))\n",
    "print(\"\\n\", dic_items)\n",
    "\n",
    "# Access element by key\n",
    "print(\"\\n\",dic_items[\"name\"])\n",
    "\n",
    "# update\n",
    "dic_items[\"name\"] = \"tushar\"\n",
    "print(\"\\n change the name : \", dic_items)\n",
    "\n",
    "# get()\n",
    "print(\"\\n By get : \",dic_items.get(\"name\",\"unknown\"))\n",
    "\n",
    "#value()\n",
    "print(\"\\n by value : \",dic_items[\"name\"])\n",
    "\n",
    "#items()\n",
    "print(\"\\n by items : \",dic_items.items())\n",
    "print()\n",
    "for i in dic_items.items():\n",
    "    print(i)\n",
    "    \n",
    "#clear()\n",
    "dic_items.clear()\n",
    "print(\"\\n clear() => Dictionary is empty : \", dic_items)\n"
   ]
  },
  {
   "cell_type": "markdown",
   "metadata": {},
   "source": [
    "SET\n",
    "\n",
    "---\n",
    "\n",
    "-\tA set is an unordered collection of unique elements.\n",
    "-\tSets are mutable, meaning they can be modified after creation.\n",
    "-\tSets are defined using curly brackets {} or the set() function.\n",
    "-\tDuplicate value are ignore.\n",
    "-\tElements must be unique and immutable e.g., strings, numbers, tuples\n",
    "- Set can be created for tuple, list, string integer etc\n",
    "\n",
    "Set operations:\n",
    "\n",
    "- `Union:` Combines elements from two sets, removing duplicates: set1 | set2\n",
    "Intersection: Returns elements that are present in both sets: set1 & set2\n",
    "- `Difference:` Returns elements that are in the first set but not in the second: set1 - set2\n",
    "- `Symmetric difference:` Returns elements that are in either set but not in both: set1 ^ set2\n",
    "\n",
    "Set Method:\n",
    "\n",
    "-\t`add():` adds an element\n",
    "-\t`remove():` removes the element\n",
    "-\t`clear():` empties the set\n",
    "-\t`pop():` remove the a random value\n",
    "\n",
    "\n"
   ]
  },
  {
   "cell_type": "code",
   "execution_count": 57,
   "metadata": {},
   "outputs": [
    {
     "name": "stdout",
     "output_type": "stream",
     "text": [
      "<class 'set'>\n",
      "Union :  {34, 67, 23, 54, 7, 456, 56, 88}\n",
      "Intersect :  set()\n",
      "Differnce :  {7, 456, 54, 23, 88}\n",
      "\n",
      " {54, 456, 88}\n",
      "Clear() => empty set  set()\n"
     ]
    }
   ],
   "source": [
    "# set by curly braces\n",
    "set_a = {23,456,7,88,54}\n",
    "set_c = {34,56,34,56,67}\n",
    "\n",
    "# Set by function\n",
    "set_b = set([23,45,5675,67])\n",
    "print(type(set_a))\n",
    "\n",
    "# Set Operation \n",
    "\n",
    "# Union Operation\n",
    "# union_a = set_a |  set_c\n",
    "print(\"Union : \",set_a.union(set_c))\n",
    "\n",
    "# Intersection Operation\n",
    "# inter =  set_a &  set_c\n",
    "print(\"Intersect : \",set_a.intersection(set_c))\n",
    "\n",
    "# Difference Operation\n",
    "# diff =  set_a - set_c\n",
    "print(\"Differnce : \",set_a.difference(set_c))\n",
    "\n",
    "set_a.add(23)\n",
    "set_a.remove(7)\n",
    "set_a.pop()\n",
    "\n",
    "print(\"\\n\", set_a)\n",
    "\n",
    "# clear()\n",
    "set_a.clear()\n",
    "print(\"Clear() => empty set \", set_a)"
   ]
  },
  {
   "cell_type": "markdown",
   "metadata": {},
   "source": [
    "FUNCTION\n",
    "\n",
    "---\n",
    "\n",
    "- A function is a block of code that can be executed multiple times from different parts of a program.\n",
    "- Functions can take arguments (inputs) and return values.\n",
    "- Functions can be defined using the def keyword.\n",
    "\n",
    "We have two types of arguments: \n",
    "\n",
    "- `Positional arguments:` their position (order) matters. greet(\"Alice\", 30)\n",
    "- `Keyword arguments:` position doesn’t matter - we prefix them with the parameter name. greet(age=30, name=\"Alice\")\n",
    "\n",
    "Function types:\n",
    "\n",
    "- `Built-in functions:` Provided by Python, such as print(), len(), input(), etc.\n",
    "- `User-defined functions:` Created by the programmer to perform specific tasks.\n",
    "- `Recursion function:` A function that calls itself directly or indirectly, Used to solve problems that can be broken down into smaller, similar subproblems.\n",
    "- `Lambda function:` Small, anonymous functions defined with the lambda keyword.\n",
    "\n",
    "\n"
   ]
  },
  {
   "cell_type": "code",
   "execution_count": 1,
   "metadata": {},
   "outputs": [
    {
     "name": "stdout",
     "output_type": "stream",
     "text": [
      "Sum of two number is :  90\n"
     ]
    }
   ],
   "source": [
    "def add(num1, num2):\n",
    "    result = num1 + num2\n",
    "    return result\n",
    "\n",
    "num1 = 34\n",
    "num2 = 56\n",
    "print(\"Sum of two number is : \", add(num1,num2)) "
   ]
  },
  {
   "cell_type": "markdown",
   "metadata": {},
   "source": [
    "LAMBDA FUNCTION\n",
    "\n",
    "---\n",
    "\n",
    "- Lambda functions, also known as anonymous functions, are a concise way to define small, one-line functions in Python. \n",
    "- Lambda functions are defined using the `lambda` keyword.\n",
    "- They are often used as arguments to functions that require functions as input, such as map, filter, and reduce."
   ]
  },
  {
   "cell_type": "code",
   "execution_count": 7,
   "metadata": {},
   "outputs": [
    {
     "name": "stdout",
     "output_type": "stream",
     "text": [
      "10\n"
     ]
    }
   ],
   "source": [
    "# lambda function\n",
    "double = lambda x:x*2\n",
    "\n",
    "result = double(5)\n",
    "print(result)\n"
   ]
  },
  {
   "cell_type": "code",
   "execution_count": 2,
   "metadata": {},
   "outputs": [
    {
     "name": "stdout",
     "output_type": "stream",
     "text": [
      "Division of two number :  1.0\n",
      "Finally Block : thank you for visiting my code\n"
     ]
    }
   ],
   "source": [
    "try:\n",
    "    ex_a = int(input(\"Enter 1st the number : \"))\n",
    "    ex_b = int(input(\"Enter 2nd the number : \"))\n",
    "    result = ex_a / ex_b\n",
    "    print(\"Division of two number : \", result)\n",
    "except  ValueError:\n",
    "    print(\"Enter the valid number\")\n",
    "except ZeroDivisionError:\n",
    "    print(\"Cannot divided by Zero\")\n",
    "finally:\n",
    "    print(\"Finally Block : thank you for visiting my code\")\n"
   ]
  },
  {
   "cell_type": "markdown",
   "metadata": {},
   "source": [
    "`raise statement` in Python is used to manually trigger an exception. This allows you to indicate an error condition or signal a specific issue within your code."
   ]
  },
  {
   "cell_type": "code",
   "execution_count": 5,
   "metadata": {},
   "outputs": [
    {
     "name": "stdout",
     "output_type": "stream",
     "text": [
      "Division of two number :  5.75\n"
     ]
    }
   ],
   "source": [
    "def divide(num1, num2):\n",
    "    if num2 == 0:\n",
    "        raise ZeroDivisionError(\"cannot divided by zero\")\n",
    "    return num1 / num2\n",
    "\n",
    "# use instant of 4, get an ZeroDivisionError\n",
    "print(\"Division of two number : \", divide(23,4))"
   ]
  },
  {
   "cell_type": "markdown",
   "metadata": {},
   "source": [
    "OOPs OBJECT ORIENTED PROGRAMMING SYSTEM\n",
    "\n",
    "---\n",
    "\n",
    " Python is a programming paradigm that uses objects and classes to create models based on real-world objects and systems. It helps in organizing code, reducing repetition, and improving reusability.\n",
    "\n",
    "Key concepts of OOPS in Python:\n",
    "\n",
    "- `Classes:` Templates for creating objects. Define properties and behaviors.\n",
    "- `Objects:` Instances of classes. Represent real-world entities.\n",
    "- `Inheritance:` Classes can inherit properties and behaviors from parent classes.\n",
    "- `Polymorphism:` Objects can take on multiple forms.\n",
    "- `Encapsulation:` Hiding internal implementation details.\n",
    "- `Abstraction:` Showing only essential features\n",
    "\n",
    "Some benefits of using OOPS in Python include:\n",
    "\n",
    "- `Modularity:` Code is organized into self-contained units.\n",
    "- `Reusability:` Code can be reused in multiple programs.\n",
    "- `Easier maintenance:` Code is more readable and understandable.\n",
    "- `Improved scalability:` Code can grow more complex without becoming unmanageable.\n",
    "\n",
    "\n",
    "Some common OOPS concepts in Python include:\n",
    "\n",
    "- `Constructors:` Special methods for initializing objects.\n",
    "- `Attributes:` Data members of classes.\n",
    "- `Methods:` Functions defined inside classes.\n",
    "- `Inheritance:` Creating child classes from parent classes.\n",
    "- `Operator overloading:` Redefining operators for custom classes.\n",
    "-  `Composition:` Creating objects from other object"
   ]
  },
  {
   "cell_type": "code",
   "execution_count": 2,
   "metadata": {},
   "outputs": [
    {
     "name": "stdout",
     "output_type": "stream",
     "text": [
      "5\n"
     ]
    }
   ],
   "source": [
    "# class\n",
    "class maths:\n",
    "    def add(num1, num2):\n",
    "        return num1 + num2\n",
    "    \n",
    "    def substract(num1, num2):\n",
    "        return num1 - num2\n",
    "    \n",
    "# object\n",
    "sum = maths()\n",
    "result =  sum.add(2,3)\n",
    "print(result)     "
   ]
  },
  {
   "cell_type": "markdown",
   "metadata": {},
   "source": [
    "INHERITANCE\n",
    "\n",
    "---\n",
    "\n",
    "- Reuse code\n",
    "- Create a hierarchy of related classes\n",
    "- Encourage code organization and structure\n",
    "\n",
    "Type of inheritance\n",
    "\n",
    "- Single inheritance (one parent class)\n",
    "-  Multiple inheritance (multiple parent classes)\n",
    "-  Multilevel inheritance (grandparent, parent, child)\n",
    "- Hierarchical Inheritance\n",
    "- Hybrid Inheritance (combination of multiple and multilevel)\n",
    "\n",
    "Common terms\n",
    "\n",
    "- Super(): Used to access parent class methods\n",
    "- Override: Child class provides a different implementation of a parent class method\n",
    "\n",
    "\n"
   ]
  },
  {
   "cell_type": "markdown",
   "metadata": {},
   "source": [
    "CONSTRUCTOR\n",
    "\n",
    "---\n",
    "\n",
    "- The constructor method is defined using `__init__`.\n",
    "- It is called automatically when an object is instantiated.\n",
    "- It takes `self` as the first argument, which refers to the object being created.\n",
    "- It can take additional arguments, which are used to initialize the object's attributes.\n",
    "- It does not have a return statement (implicit return None).\n"
   ]
  },
  {
   "cell_type": "code",
   "execution_count": 4,
   "metadata": {},
   "outputs": [
    {
     "name": "stdout",
     "output_type": "stream",
     "text": [
      "TATA   Safari\n",
      "brand TATA and model Safari\n",
      "Toyata Fortuner\n"
     ]
    }
   ],
   "source": [
    "class Car:\n",
    "    \n",
    "    # CONSTRUCTION\n",
    "    def __init__(self, brand, model): \n",
    "        self.brand = brand\n",
    "        self.model = model\n",
    "    \n",
    "    #Method\n",
    "    def about (self):\n",
    "        return f\"brand {self.brand} and model {self.model}\"\n",
    "        \n",
    "my_car = Car(\"TATA\", \"Safari\")\n",
    "print(my_car.brand,\" \", my_car.model)\n",
    "print(my_car.about())\n",
    "\n",
    "my_sec_car = Car(\"Toyata\", \"Fortuner\")\n",
    "print(my_sec_car.brand+\" \"+my_sec_car.model)     "
   ]
  },
  {
   "cell_type": "markdown",
   "metadata": {},
   "source": [
    "INHERITANCE\n",
    "\n",
    "---\n",
    "\n",
    "- Reuse code\n",
    "- Create a hierarchy of related classes\n",
    "- Encourage code organization and structure\n",
    "\n",
    "Type of inheritance\n",
    "\n",
    "- `Single inheritance` (one parent class)\n",
    "-  `Multiple inheritance` (multiple parent classes)\n",
    "-  `Multilevel inheritance` (grandparent, parent, child)\n",
    "- `Hierarchical Inheritance`\n",
    "- `Hybrid Inheritance` (combination of multiple and multilevel)\n",
    "\n",
    "Common terms\n",
    "\n",
    "- `Super()`: Used to access parent class methods\n",
    "- `Override`: Child class provides a different implementation of a parent class method\n",
    "\n",
    "\n"
   ]
  },
  {
   "cell_type": "code",
   "execution_count": 9,
   "metadata": {},
   "outputs": [
    {
     "name": "stdout",
     "output_type": "stream",
     "text": [
      "Battery   BMW   Series 3\n",
      "brand BMW and model Series 3\n"
     ]
    }
   ],
   "source": [
    "# Inheritance\n",
    "\n",
    "# Inherit the Car class from above\n",
    "class ElectricCar (Car):\n",
    "    def __init__(self, brand, model, battery):\n",
    "        \n",
    "        #super\n",
    "        super().__init__(brand, model)\n",
    "        self.battery = battery\n",
    "\n",
    "my_tesla = ElectricCar(\"BMW\", \"Series 3\", \"Battery\")\n",
    "print(my_tesla.battery, \" \", my_tesla.brand, \" \", my_tesla.model)   \n",
    "print(my_tesla.about())     \n",
    "      "
   ]
  },
  {
   "cell_type": "markdown",
   "metadata": {},
   "source": [
    "ENCAPSULATION\n",
    "\n",
    "---\n",
    "\n",
    "- `Data Hiding:` Protects the object's internal state from external interference.\n",
    "- `Code Organization:` Groups related data and methods into a single unit.\n",
    "- `Code Reusability:` Allows for code reuse through inheritance.\n",
    "- `Improved Security:` Helps to prevent data corruption or misuse.\n",
    "\n",
    "In Python, you can achieve encapsulation by:\n",
    "\n",
    "- Using classes and objects.\n",
    "- Using access modifiers `(public, private, protected)` to control access to attributes and methods.\n",
    "- Using `getters and setters` (accessor and mutator methods) to control access to attributes."
   ]
  },
  {
   "cell_type": "code",
   "execution_count": 12,
   "metadata": {},
   "outputs": [
    {
     "name": "stdout",
     "output_type": "stream",
     "text": [
      "brand bmw and model series 4\n",
      "Tushar\n"
     ]
    }
   ],
   "source": [
    "# Encapsulation\n",
    "\n",
    "#inherit the car class\n",
    "class PetrolCar (Car):\n",
    "    def __init__(self, brand, model, Owner):\n",
    "        super().__init__(brand, model)\n",
    "        \n",
    "        # Private\n",
    "        self.__owner = Owner\n",
    "    \n",
    "    # getter\n",
    "    def get_owner (self):\n",
    "        return self.__owner\n",
    "\n",
    "suv = PetrolCar(\"bmw\", \"series 4\", \"Tushar\")\n",
    "print(suv.about())\n",
    "# print(suv.__owner) gives an error of no attribute\n",
    "print(suv.get_owner())"
   ]
  },
  {
   "cell_type": "markdown",
   "metadata": {},
   "source": [
    "POLYMORPHISM\n",
    "\n",
    "----\n",
    "\n",
    "- `Increased flexibility:` Objects can be treated as if they were of a different class.\n",
    "-  `Improved code reusability:` Methods can be written to work with multiple types of data.\n",
    "- `Easier maintenance:` Changes can be made at one place and affect multiple parts of the code.\n",
    "\n",
    " In Python, polymorphism allows for:\n",
    "\n",
    "- `Method overriding:` When a subclass provides a different implementation of a method already defined in its superclass.\n",
    "- `Method overloading:` When a class provides multiple definitions for a method with the same name but different parameters.\n",
    "- `Operator overloading:` When a class redefines operators (e.g., +, -, *, /) to work with objects of that class.\n",
    "- `Duck typing:` When a class provides a method with the same name as another class, even if the classes are not related."
   ]
  },
  {
   "cell_type": "code",
   "execution_count": 22,
   "metadata": {},
   "outputs": [
    {
     "name": "stdout",
     "output_type": "stream",
     "text": [
      "Bark   Live at home\n"
     ]
    }
   ],
   "source": [
    "# Polymorphism\n",
    "\n",
    "class Animal:\n",
    "    \n",
    "    # class variable\n",
    "    total_animal = 0\n",
    "    \n",
    "    def __init__(self, sound):\n",
    "        self.sound = sound\n",
    "        \n",
    "        # initialization\n",
    "        Animal.total_animal += 1\n",
    "    \n",
    "    def live (self):\n",
    "       return \"Live at anywhere\"    \n",
    "    \n",
    "  # Static Method\n",
    "    @staticmethod\n",
    "    def activity():\n",
    "       return \"Watching peoples\"\n",
    "\n",
    "class domestic(Animal):\n",
    "    def __init__(self, sound, name):\n",
    "        super().__init__(sound)\n",
    "        self.name = name\n",
    "    \n",
    "    # Plymorphism by overriding the parent method    \n",
    "    def live (self):\n",
    "       return \"Live at home\"  \n",
    "    \n",
    "\n",
    "\n",
    "dog = Animal(\"Bark\")\n",
    "print(dog.sound, \" \", dog.live())\n",
    "        "
   ]
  },
  {
   "cell_type": "code",
   "execution_count": 16,
   "metadata": {},
   "outputs": [
    {
     "name": "stdout",
     "output_type": "stream",
     "text": [
      "1\n"
     ]
    }
   ],
   "source": [
    "# class Variable\n",
    "\n",
    "lion = Animal(\"roar\")\n",
    "\n",
    "print(Animal.total_animal)"
   ]
  },
  {
   "cell_type": "code",
   "execution_count": 23,
   "metadata": {},
   "outputs": [
    {
     "name": "stdout",
     "output_type": "stream",
     "text": [
      "Watching peoples\n"
     ]
    }
   ],
   "source": [
    "# Static Method call\n",
    "print(Animal.activity())"
   ]
  }
 ],
 "metadata": {
  "kernelspec": {
   "display_name": "Python 3",
   "language": "python",
   "name": "python3"
  },
  "language_info": {
   "codemirror_mode": {
    "name": "ipython",
    "version": 3
   },
   "file_extension": ".py",
   "mimetype": "text/x-python",
   "name": "python",
   "nbconvert_exporter": "python",
   "pygments_lexer": "ipython3",
   "version": "3.12.5"
  }
 },
 "nbformat": 4,
 "nbformat_minor": 2
}
